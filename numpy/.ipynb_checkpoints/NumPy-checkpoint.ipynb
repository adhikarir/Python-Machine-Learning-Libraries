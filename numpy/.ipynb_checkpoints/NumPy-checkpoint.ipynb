{
 "cells": [
  {
   "cell_type": "markdown",
   "id": "8420a11b",
   "metadata": {},
   "source": [
    "# NumPy Basic Operation"
   ]
  },
  {
   "cell_type": "markdown",
   "id": "c62b8cfd",
   "metadata": {},
   "source": [
    "NumPy is a Python library used for working with arrays.\n",
    "\n",
    "It also has functions for working in domain of linear algebra, fourier transform, and matrices.\n",
    "\n",
    "NumPy was created in 2005 by Travis Oliphant. It is an open source project and you can use it freely.\n",
    "\n",
    "NumPy stands for Numerical Python."
   ]
  },
  {
   "cell_type": "code",
   "execution_count": 6,
   "id": "9cd5cadc",
   "metadata": {},
   "outputs": [],
   "source": [
    "# Importing NumPy\n",
    "import numpy as np"
   ]
  },
  {
   "cell_type": "code",
   "execution_count": 7,
   "id": "6926d8a2",
   "metadata": {},
   "outputs": [
    {
     "name": "stdout",
     "output_type": "stream",
     "text": [
      "[1 2 3]\n"
     ]
    }
   ],
   "source": [
    "# creating an array\n",
    "array = np.array([1, 2, 3])\n",
    "print(array)"
   ]
  },
  {
   "cell_type": "markdown",
   "id": "eae44938",
   "metadata": {},
   "source": [
    "##### Numpy vs. Lists\n",
    "Numpy and Lists are similar to each other in the sense that they can both store data, be indexed and be iterated. However, Numpy uses less memory, is faster, and more convenient than Lists. Also, we cannot perform calculations (add, subtract, multiply, divide and exponentiation) on Python Lists but we can on Numpy Arrays. For example:"
   ]
  },
  {
   "cell_type": "code",
   "execution_count": 9,
   "id": "394df270",
   "metadata": {},
   "outputs": [
    {
     "name": "stdout",
     "output_type": "stream",
     "text": [
      "[1, 2, 3, 4, 5, 6, 7, 8, 9, 1, 2, 3, 4, 5, 6, 7, 8, 9]\n"
     ]
    }
   ],
   "source": [
    "python_list = [1, 2, 3, 4, 5, 6, 7, 8, 9]\n",
    "print((python_list) * 2)"
   ]
  },
  {
   "cell_type": "code",
   "execution_count": 11,
   "id": "fd3025d0",
   "metadata": {},
   "outputs": [
    {
     "name": "stdout",
     "output_type": "stream",
     "text": [
      "[ 2  4  6  8 10 12 14 16 18]\n"
     ]
    }
   ],
   "source": [
    "numpy_array = np.array([1,2,3,4,5,6,7,8,9])\n",
    "print((numpy_array)*2)"
   ]
  },
  {
   "cell_type": "markdown",
   "id": "483a2bcf",
   "metadata": {},
   "source": [
    "#### Another example to show the difference between Lists and Numpy:"
   ]
  },
  {
   "cell_type": "code",
   "execution_count": 15,
   "id": "c64d036f",
   "metadata": {},
   "outputs": [
    {
     "name": "stdout",
     "output_type": "stream",
     "text": [
      "[1, 2, 3, 4, 5, 6, 7, 8, 9, 1, 2, 3, 4, 5, 6, 7, 8, 9]\n"
     ]
    }
   ],
   "source": [
    "print(python_list + python_list)"
   ]
  },
  {
   "cell_type": "code",
   "execution_count": 16,
   "id": "18372e55",
   "metadata": {},
   "outputs": [
    {
     "name": "stdout",
     "output_type": "stream",
     "text": [
      "[ 2  4  6  8 10 12 14 16 18]\n"
     ]
    }
   ],
   "source": [
    "print(numpy_array + numpy_array)"
   ]
  },
  {
   "cell_type": "markdown",
   "id": "58e1a7b5",
   "metadata": {},
   "source": [
    "#### Finding the size of an array\n",
    " the size tool returns how many values are in the array"
   ]
  },
  {
   "cell_type": "code",
   "execution_count": 17,
   "id": "0d1bfeb3",
   "metadata": {},
   "outputs": [
    {
     "name": "stdout",
     "output_type": "stream",
     "text": [
      "9\n"
     ]
    }
   ],
   "source": [
    "numpy_array = np.array([1,2,3,4,5,6,7,8,9])\n",
    "print(numpy_array.size)"
   ]
  },
  {
   "cell_type": "markdown",
   "id": "31370ee7",
   "metadata": {},
   "source": [
    "#### Finding the shape of an array:\n",
    "The shape tool returns the dimensions of the array in the format (rows, columns). Note: an array can be referred to as a matrix"
   ]
  },
  {
   "cell_type": "code",
   "execution_count": 18,
   "id": "f87d1876",
   "metadata": {},
   "outputs": [
    {
     "name": "stdout",
     "output_type": "stream",
     "text": [
      "(2, 5)\n"
     ]
    }
   ],
   "source": [
    "numpy_matrix = np.array([(1,2,3,4,5),(6,7,8,9,10)])\n",
    "print(numpy_matrix.shape)"
   ]
  },
  {
   "cell_type": "markdown",
   "id": "de0fb2eb",
   "metadata": {},
   "source": [
    "#### Reshaping an array\n",
    "The reshape tool allows us to change the original dimension of an array. In this example, we changed the array dimensions from (2, 5) to (5, 2)"
   ]
  },
  {
   "cell_type": "code",
   "execution_count": 22,
   "id": "ea5b1856",
   "metadata": {},
   "outputs": [
    {
     "name": "stdout",
     "output_type": "stream",
     "text": [
      "[[ 1  2]\n",
      " [ 3  4]\n",
      " [ 5  6]\n",
      " [ 7  8]\n",
      " [10 11]]\n"
     ]
    }
   ],
   "source": [
    "numpy_matrix = np.array([(1, 2, 3, 4,5), (6, 7, 8,10,11)])\n",
    "numpy_matrix = numpy_matrix.reshape(5,2)\n",
    "print(numpy_matrix)"
   ]
  },
  {
   "cell_type": "markdown",
   "id": "4cf41f8c",
   "metadata": {},
   "source": [
    "#### Extracting the special value from an array\n",
    "This returns the value at a specific position called on. It follows the format [rows, columns] with indexes starting at 0"
   ]
  },
  {
   "cell_type": "code",
   "execution_count": 24,
   "id": "8f8a0af4",
   "metadata": {},
   "outputs": [
    {
     "name": "stdout",
     "output_type": "stream",
     "text": [
      "3\n"
     ]
    }
   ],
   "source": [
    "numpy_array = np.array([1, 2, 3, 4, 5, 6, 7, 8, 9])\n",
    "print(numpy_array[2])"
   ]
  },
  {
   "cell_type": "markdown",
   "id": "aa5634cb",
   "metadata": {},
   "source": [
    "#### Extracting multiple values from an array\n",
    "[0, 0:4] returns values from the first row and values from columns with indexes 0 to 3"
   ]
  },
  {
   "cell_type": "code",
   "execution_count": 28,
   "id": "c7bd84d8",
   "metadata": {},
   "outputs": [
    {
     "name": "stdout",
     "output_type": "stream",
     "text": [
      "[1 2 3 4]\n"
     ]
    }
   ],
   "source": [
    "numpy_array = np.array([(1, 2, 3, 4, 5, 6, 7, 8, 9),(10, 20, 30, 40, 50, 60, 70, 80, 90)])\n",
    "print(numpy_array[0, 0:4])"
   ]
  },
  {
   "cell_type": "markdown",
   "id": "dd554f05",
   "metadata": {},
   "source": [
    "#### Reversing the order of an array\n",
    "“ ::-1 ” in the rows position reverses the order of the rows whereas “ ::-1 ” in the columns position reverses the order of values in the columns"
   ]
  },
  {
   "cell_type": "code",
   "execution_count": 31,
   "id": "7d6af2cc",
   "metadata": {},
   "outputs": [
    {
     "name": "stdout",
     "output_type": "stream",
     "text": [
      "[9 8 7 6 5 4 3 2 1]\n"
     ]
    }
   ],
   "source": [
    "numpy_array = np.array([1, 2, 3, 4, 5, 6, 7, 8, 9])\n",
    "print(numpy_array[::-1])"
   ]
  },
  {
   "cell_type": "markdown",
   "id": "880a78b4",
   "metadata": {},
   "source": [
    "#### Finding the max, min and sum of an array:\n"
   ]
  },
  {
   "cell_type": "code",
   "execution_count": 38,
   "id": "aaf14efc",
   "metadata": {},
   "outputs": [
    {
     "name": "stdout",
     "output_type": "stream",
     "text": [
      "9\n"
     ]
    }
   ],
   "source": [
    "numpy_array = np.array([1, 2, 3, 4, 5, 6, 7, 8, 9])\n",
    "# To find out the max value from the array\n",
    "print(numpy_array.max())"
   ]
  },
  {
   "cell_type": "code",
   "execution_count": 36,
   "id": "14e99ad5",
   "metadata": {},
   "outputs": [
    {
     "name": "stdout",
     "output_type": "stream",
     "text": [
      "1\n"
     ]
    }
   ],
   "source": [
    "# To find out the minimum value of the array\n",
    "print(numpy_array.min())"
   ]
  },
  {
   "cell_type": "code",
   "execution_count": 37,
   "id": "220d4795",
   "metadata": {},
   "outputs": [
    {
     "name": "stdout",
     "output_type": "stream",
     "text": [
      "45\n"
     ]
    }
   ],
   "source": [
    "# To find out the sum\n",
    "print(numpy_array.sum())"
   ]
  },
  {
   "cell_type": "markdown",
   "id": "643d1acf",
   "metadata": {},
   "source": [
    "#### Finding the mean, median, variance and standard deviation of an array:"
   ]
  },
  {
   "cell_type": "code",
   "execution_count": 43,
   "id": "f22c398c",
   "metadata": {},
   "outputs": [
    {
     "name": "stdout",
     "output_type": "stream",
     "text": [
      "5.0\n",
      "5.0\n",
      "6.666666666666667\n",
      "2.581988897471611\n"
     ]
    }
   ],
   "source": [
    "numpy_array = np.array([1, 2, 3, 4, 5, 6, 7, 8, 9])\n",
    "# To find out the mean\n",
    "print(numpy_array.mean())\n",
    "\n",
    "# To find out the median\n",
    "\n",
    "print(np.median(numpy_array))\n",
    "\n",
    "# To find out the variance\n",
    "print(numpy_array.var())\n",
    "\n",
    "# TO find out the standard deviation\n",
    "print(numpy_array.std())"
   ]
  },
  {
   "cell_type": "markdown",
   "id": "0faa8f49",
   "metadata": {},
   "source": [
    "#### Doing an operation on a row and column:\n",
    "\"axis = 0\" performs an operation on each y-axis within the array. \"axis = 1\" performs an operation on each x-axis within the array. \"axis = None\" performs an operation on all values in the array, it is defaul"
   ]
  },
  {
   "cell_type": "code",
   "execution_count": 44,
   "id": "de7fb1e4",
   "metadata": {},
   "outputs": [
    {
     "name": "stdout",
     "output_type": "stream",
     "text": [
      "[[ 1  2]\n",
      " [ 3  4]\n",
      " [ 5  6]\n",
      " [ 7  8]\n",
      " [10 11]]\n"
     ]
    }
   ],
   "source": [
    "print(numpy_matrix)"
   ]
  },
  {
   "cell_type": "code",
   "execution_count": 45,
   "id": "d6833fe0",
   "metadata": {},
   "outputs": [
    {
     "name": "stdout",
     "output_type": "stream",
     "text": [
      "[26 31]\n"
     ]
    }
   ],
   "source": [
    "print(numpy_matrix.sum(axis = 0))"
   ]
  },
  {
   "cell_type": "code",
   "execution_count": 46,
   "id": "cc6e8d52",
   "metadata": {},
   "outputs": [
    {
     "name": "stdout",
     "output_type": "stream",
     "text": [
      "[ 3  7 11 15 21]\n"
     ]
    }
   ],
   "source": [
    "print(numpy_matrix.sum(axis = 1))"
   ]
  },
  {
   "cell_type": "code",
   "execution_count": 47,
   "id": "93240feb",
   "metadata": {},
   "outputs": [
    {
     "name": "stdout",
     "output_type": "stream",
     "text": [
      "57\n"
     ]
    }
   ],
   "source": [
    "print(numpy_matrix.sum(axis = None))"
   ]
  },
  {
   "cell_type": "markdown",
   "id": "e56eeaeb",
   "metadata": {},
   "source": [
    "#### Joining arrays together to create one array\n",
    "The concatenate tool joins arrays together. The final array can be reshaped by performing operations on specific axes"
   ]
  },
  {
   "cell_type": "code",
   "execution_count": 48,
   "id": "8df51c85",
   "metadata": {},
   "outputs": [
    {
     "name": "stdout",
     "output_type": "stream",
     "text": [
      "[1 2 3 4 5 6 7 8 9]\n"
     ]
    }
   ],
   "source": [
    "array_1 = np.array([1,2,3])\n",
    "array_2 = np.array([4,5,6])\n",
    "array_3 = np.array([7,8,9])\n",
    "print(np.concatenate((array_1, array_2, array_3)))"
   ]
  },
  {
   "cell_type": "code",
   "execution_count": 50,
   "id": "914e41a6",
   "metadata": {},
   "outputs": [
    {
     "name": "stdout",
     "output_type": "stream",
     "text": [
      "[1 2 3 4 5 6]\n"
     ]
    }
   ],
   "source": [
    "array_4 = np.array([[1,2,3],[0,0,0]])\n",
    "array_5 = np.array([[0,0,0],[7,8,9]])\n",
    "print(np.concatenate((array_1, array_2), axis = 0))"
   ]
  },
  {
   "cell_type": "markdown",
   "id": "f05425b7",
   "metadata": {},
   "source": [
    "#### Printing identity matrices\n",
    "In the first example, the identity tool returns a square matrix with the dimensions 3 by 3. In the second example, the eye tool prints an 8 by 7 matrix with the first upper diagonal shifted one over denoted with k = 1"
   ]
  },
  {
   "cell_type": "code",
   "execution_count": 51,
   "id": "80764fd8",
   "metadata": {},
   "outputs": [
    {
     "name": "stdout",
     "output_type": "stream",
     "text": [
      "[[1. 0. 0.]\n",
      " [0. 1. 0.]\n",
      " [0. 0. 1.]]\n"
     ]
    }
   ],
   "source": [
    "print(np.identity(3))"
   ]
  },
  {
   "cell_type": "code",
   "execution_count": 52,
   "id": "6c47adac",
   "metadata": {},
   "outputs": [
    {
     "name": "stdout",
     "output_type": "stream",
     "text": [
      "[[0. 1. 0. 0. 0. 0. 0.]\n",
      " [0. 0. 1. 0. 0. 0. 0.]\n",
      " [0. 0. 0. 1. 0. 0. 0.]\n",
      " [0. 0. 0. 0. 1. 0. 0.]\n",
      " [0. 0. 0. 0. 0. 1. 0.]\n",
      " [0. 0. 0. 0. 0. 0. 1.]\n",
      " [0. 0. 0. 0. 0. 0. 0.]\n",
      " [0. 0. 0. 0. 0. 0. 0.]]\n"
     ]
    }
   ],
   "source": [
    "print(np.eye(8, 7, k = 1))  "
   ]
  },
  {
   "cell_type": "markdown",
   "id": "0eed0127",
   "metadata": {},
   "source": [
    "#### Multiplying matrices\n",
    "The dot tool returns the dot products of two arrays. The cross tool returns the cross product of two arrays"
   ]
  },
  {
   "cell_type": "code",
   "execution_count": 54,
   "id": "4faed949",
   "metadata": {},
   "outputs": [
    {
     "name": "stdout",
     "output_type": "stream",
     "text": [
      "11\n",
      "-2\n"
     ]
    }
   ],
   "source": [
    "array_1 = np.array([1,2])\n",
    "array_2 = np.array([3,4])\n",
    "\n",
    "print(np.dot(array_1,array_2))\n",
    "print(np.cross(array_1,array_2))"
   ]
  },
  {
   "cell_type": "markdown",
   "id": "b8c3130d",
   "metadata": {},
   "source": [
    "#### Creating array data\n"
   ]
  },
  {
   "cell_type": "code",
   "execution_count": 56,
   "id": "7de488d5",
   "metadata": {},
   "outputs": [
    {
     "name": "stdout",
     "output_type": "stream",
     "text": [
      "[0 1 2 3 4 5 6 7 8 9]\n"
     ]
    }
   ],
   "source": [
    "# Creating an array from 0 to 9\n",
    "arr = np.arange(10)\n",
    "print(arr)"
   ]
  },
  {
   "cell_type": "code",
   "execution_count": null,
   "id": "85577cee",
   "metadata": {},
   "outputs": [],
   "source": []
  }
 ],
 "metadata": {
  "kernelspec": {
   "display_name": "Python 3",
   "language": "python",
   "name": "python3"
  },
  "language_info": {
   "codemirror_mode": {
    "name": "ipython",
    "version": 3
   },
   "file_extension": ".py",
   "mimetype": "text/x-python",
   "name": "python",
   "nbconvert_exporter": "python",
   "pygments_lexer": "ipython3",
   "version": "3.8.8"
  }
 },
 "nbformat": 4,
 "nbformat_minor": 5
}
