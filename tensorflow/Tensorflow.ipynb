{
 "cells": [
  {
   "cell_type": "markdown",
   "id": "31b5f629",
   "metadata": {},
   "source": [
    "# Tensorflow\n",
    "TensorFlow is a library for number crunching created and maintained by Google. It’s used mainly for machine learning (especially deep learning) tasks.  It is a symbolic math library that uses dataflow and differentiable programming to perform various tasks focused on training and inference of deep neural networks. It allows developers to create machine learning applications using various tools, libraries, and community resources. Currently, the most famous deep learning library in the world is Google’s TensorFlow. Google product uses machine learning in all of its products to improve the search engine, translation, image captioning or recommendations\n"
   ]
  },
  {
   "cell_type": "markdown",
   "id": "8c4152ec",
   "metadata": {},
   "source": [
    "#### Installing TensorFlow"
   ]
  },
  {
   "cell_type": "code",
   "execution_count": null,
   "id": "bf75bb44",
   "metadata": {},
   "outputs": [],
   "source": [
    "pip install tensorflow"
   ]
  },
  {
   "cell_type": "markdown",
   "id": "8963d54e",
   "metadata": {},
   "source": [
    "#### Check or setup\n",
    "Now that we have everything installed. Let’s check that we can import TensorFlow."
   ]
  },
  {
   "cell_type": "code",
   "execution_count": 3,
   "id": "186b46ff",
   "metadata": {},
   "outputs": [
    {
     "data": {
      "text/plain": [
       "'2.6.0'"
      ]
     },
     "execution_count": 3,
     "metadata": {},
     "output_type": "execute_result"
    }
   ],
   "source": [
    "import tensorflow as tf\n",
    "import numpy as np\n",
    "import matplotlib.pyplot as plt\n",
    "%matplotlib inline\n",
    "tf.__version__"
   ]
  },
  {
   "cell_type": "markdown",
   "id": "ac322b10",
   "metadata": {},
   "source": [
    "#### Tensor\n",
    "The data type in TensorFlow is Tensor. A scalar is a tensor, a vector is a tensor, a matrix is a tensor, and the matrix of a matrix is a tensor, too. Tensor is a compound type. The elements in Tensor are python basic data types that we are quite familiar with, including bool, int, float, double, string, array."
   ]
  },
  {
   "cell_type": "markdown",
   "id": "094f9c48",
   "metadata": {},
   "source": [
    "#### Create Tensors by Python basic types and Numpy array\n"
   ]
  },
  {
   "cell_type": "code",
   "execution_count": 10,
   "id": "e5c1679b",
   "metadata": {},
   "outputs": [
    {
     "name": "stdout",
     "output_type": "stream",
     "text": [
      "tf.Tensor(5, shape=(), dtype=int32)\n",
      "tf.Tensor(5.0, shape=(), dtype=float32)\n",
      "tf.Tensor(5.0, shape=(), dtype=float64)\n",
      "tf.Tensor(True, shape=(), dtype=bool)\n",
      "tf.Tensor(b'hello, world', shape=(), dtype=string)\n",
      "tf.Tensor([1. 2. 3.], shape=(3,), dtype=float32)\n",
      "tf.Tensor([1. 2. 3.], shape=(3,), dtype=float64)\n"
     ]
    }
   ],
   "source": [
    "# int\n",
    "print(tf.constant(5))\n",
    "# float\n",
    "print(tf.constant(5.0))\n",
    "# double\n",
    "print(tf.constant(5.0, dtype=tf.float64))\n",
    "# bool\n",
    "print(tf.constant(True))\n",
    "# string\n",
    "print(tf.constant('hello, world'))\n",
    "# python list\n",
    "print(tf.constant([1., 2., 3.]))\n",
    "# numpy list\n",
    "print(tf.constant(np.array([1., 2., 3.])))"
   ]
  },
  {
   "cell_type": "code",
   "execution_count": 11,
   "id": "0f54048e",
   "metadata": {},
   "outputs": [
    {
     "name": "stdout",
     "output_type": "stream",
     "text": [
      "tf.Tensor(\n",
      "[[0.1 0.2 0.3]\n",
      " [0.4 0.5 0.6]], shape=(2, 3), dtype=float32)\n",
      "tf.Tensor(\n",
      "[[0.1 0.2 0.3]\n",
      " [0.4 0.5 0.6]], shape=(2, 3), dtype=float32)\n"
     ]
    }
   ],
   "source": [
    "#tf.convert_to_tensor can also convert other data types to Tensor.\n",
    "print(tf.constant([[0.1, 0.2, 0.3], [0.4, 0.5, 0.6]]))\n",
    "print(tf.convert_to_tensor([[0.1, 0.2, 0.3], [0.4, 0.5, 0.6]]))"
   ]
  },
  {
   "cell_type": "markdown",
   "id": "deea7f87",
   "metadata": {},
   "source": [
    "#### Create Tensors by tf.random\n",
    "tf.random.normal: Outputs random values from a normal distribution. The default mean is 0.0. the default standard deviation is 1.0. The shape parameter need to be explicitly assigned."
   ]
  },
  {
   "cell_type": "code",
   "execution_count": 12,
   "id": "08ebbf00",
   "metadata": {},
   "outputs": [
    {
     "name": "stdout",
     "output_type": "stream",
     "text": [
      "tf.Tensor(\n",
      "[[-0.833465    0.07172389]\n",
      " [-0.08796214 -0.9630143 ]], shape=(2, 2), dtype=float32)\n"
     ]
    }
   ],
   "source": [
    "# tf.random.normal.\n",
    "print(tf.random.normal([2, 2], mean=0, stddev=1))"
   ]
  },
  {
   "cell_type": "code",
   "execution_count": 13,
   "id": "2b580a7a",
   "metadata": {},
   "outputs": [
    {
     "name": "stdout",
     "output_type": "stream",
     "text": [
      "tf.Tensor(\n",
      "[[-0.09857981  0.09909953]\n",
      " [ 0.2180097  -0.7462891 ]], shape=(2, 2), dtype=float64)\n"
     ]
    }
   ],
   "source": [
    "# distribution.\n",
    "print(tf.random.truncated_normal([2,2], mean=0, stddev=1, dtype=tf.double))"
   ]
  },
  {
   "cell_type": "markdown",
   "id": "d23851cc",
   "metadata": {},
   "source": [
    "#### Tensor merge and split\n",
    "Merging refers to merging multiple tensors into one tensor in a certain dimension. There are two kinds of Merging-concatenation and stacking. Concatenation does not create new dimensions, but stacking creates new dimensions.\n",
    "The concatenation can be performed on any dimension. The only constraint is that the length of the non-concatenated dimensions must be the same."
   ]
  },
  {
   "cell_type": "code",
   "execution_count": 14,
   "id": "c45200a8",
   "metadata": {},
   "outputs": [
    {
     "name": "stdout",
     "output_type": "stream",
     "text": [
      "tf.Tensor(\n",
      "[[[-0.14719796 -0.7852111  -0.51880443]\n",
      "  [ 2.2172763   1.0025381  -1.2630349 ]]\n",
      "\n",
      " [[-0.9769671  -1.407355    0.7584211 ]\n",
      "  [ 1.0559675  -2.052611    1.6925826 ]]\n",
      "\n",
      " [[ 0.69797635  0.8376928  -0.4418664 ]\n",
      "  [ 2.1194541   0.86249673  0.0022708 ]]], shape=(3, 2, 3), dtype=float32)\n"
     ]
    }
   ],
   "source": [
    "a = tf.random.normal([1,2,3])\n",
    "b = tf.random.normal([2,2,3])\n",
    "c = tf.concat([a,b], axis=0)\n",
    "print(c)"
   ]
  },
  {
   "cell_type": "markdown",
   "id": "78679009",
   "metadata": {},
   "source": [
    "#### Mathematical operations\n",
    "TensorFlow 2.x support mathematical operations much more friendly that TensorFlow 1.x. The commonly used operations are listed below. It is clear and absolutely meets python programming habit."
   ]
  },
  {
   "cell_type": "code",
   "execution_count": 15,
   "id": "1a3a339b",
   "metadata": {},
   "outputs": [
    {
     "name": "stdout",
     "output_type": "stream",
     "text": [
      "tf.Tensor(\n",
      "[[ 6.  8.]\n",
      " [10. 12.]], shape=(2, 2), dtype=float32)\n"
     ]
    }
   ],
   "source": [
    "a = tf.constant([[1,2],[3,4]], dtype=tf.float32)\n",
    "b = tf.constant([[5,6],[7,8]], dtype=tf.float32)\n",
    "# element-wise add\n",
    "print(a+b)"
   ]
  },
  {
   "cell_type": "code",
   "execution_count": 16,
   "id": "bebca14d",
   "metadata": {},
   "outputs": [
    {
     "name": "stdout",
     "output_type": "stream",
     "text": [
      "tf.Tensor(\n",
      "[[-4. -4.]\n",
      " [-4. -4.]], shape=(2, 2), dtype=float32)\n"
     ]
    }
   ],
   "source": [
    "# element-wise minus\n",
    "print(a-b)"
   ]
  },
  {
   "cell_type": "code",
   "execution_count": 18,
   "id": "9533625d",
   "metadata": {},
   "outputs": [
    {
     "name": "stdout",
     "output_type": "stream",
     "text": [
      "tf.Tensor(\n",
      "[[ 5. 12.]\n",
      " [21. 32.]], shape=(2, 2), dtype=float32)\n",
      "a/b= tf.Tensor(\n",
      "[[0.2        0.33333334]\n",
      " [0.42857143 0.5       ]], shape=(2, 2), dtype=float32)\n"
     ]
    }
   ],
   "source": [
    "# element-wise multipy\n",
    "print(a*b)\n",
    "# element-wise divide\n",
    "print('a/b=', a/b)"
   ]
  },
  {
   "cell_type": "code",
   "execution_count": 20,
   "id": "88f79d9e",
   "metadata": {},
   "outputs": [
    {
     "name": "stdout",
     "output_type": "stream",
     "text": [
      "tf.Tensor(\n",
      "[[19. 22.]\n",
      " [43. 50.]], shape=(2, 2), dtype=float32)\n"
     ]
    }
   ],
   "source": [
    "# maxtrix multipy\n",
    "print(tf.matmul(a, b))"
   ]
  },
  {
   "cell_type": "markdown",
   "id": "f6954e73",
   "metadata": {},
   "source": [
    "#### The convolution operation\n",
    "A convolution operation is a widely used signal-processing technique. For images, convolution is used to produce different effects of an image. An example of edge detection using convolution. This can be achieved by shifting a convolution filter on top of an image to produce a different output at each location. Specifically, at each location we do element-wise multiplication of the elements in the convolution filter with the image patch (same size as the convolution filter) that overlaps with the convolution filter and takes the sum of the multiplication:"
   ]
  },
  {
   "cell_type": "code",
   "execution_count": 23,
   "id": "7e938c87",
   "metadata": {},
   "outputs": [],
   "source": [
    "#The following is the implementation of the convolution operation:\n",
    "x = tf.constant( [[\n",
    "[[1],[2],[3],[4]],\n",
    "[[4],[3],[2],[1]],\n",
    "[[5],[6],[7],[8]],\n",
    "[[8],[7],[6],[5]]\n",
    "]],\n",
    "dtype=tf.float32)\n",
    "\n",
    "x_filter = tf.constant( [\n",
    "[\n",
    "[[0.5]],[[1]]\n",
    "], [\n",
    "[[0.5]],[[1]]\n",
    "]\n",
    "],\n",
    "dtype=tf.float32)\n",
    "\n",
    "x_stride = [1,1,1,1]\n",
    "x_padding = 'VALID'\n",
    "\n",
    "x_conv = tf.nn.conv2d( input=x, filters=x_filter, strides=x_stride, padding=x_padding)"
   ]
  },
  {
   "cell_type": "code",
   "execution_count": 24,
   "id": "06b489bb",
   "metadata": {},
   "outputs": [
    {
     "name": "stdout",
     "output_type": "stream",
     "text": [
      "tf.Tensor(\n",
      "[[[[ 7.5]\n",
      "   [ 7.5]\n",
      "   [ 7.5]]\n",
      "\n",
      "  [[13.5]\n",
      "   [13.5]\n",
      "   [13.5]]\n",
      "\n",
      "  [[19.5]\n",
      "   [19.5]\n",
      "   [19.5]]]], shape=(1, 3, 3, 1), dtype=float32)\n"
     ]
    }
   ],
   "source": [
    "print(x_conv)"
   ]
  },
  {
   "cell_type": "markdown",
   "id": "0ea71bee",
   "metadata": {},
   "source": [
    "For the tf.nn.conv2d(…) or tf.keras.layers.conv2d(…) operation, TensorFlow requires input, filter, and stride to be of an exact format. We will now go through each argument in conv2d(input, filter, strides, padding) "
   ]
  },
  {
   "cell_type": "markdown",
   "id": "b7c9f1c0",
   "metadata": {},
   "source": [
    "#### The pooling operation\n",
    "A pooling operation behaves similar to the convolution operation, but the final output is different. Instead of outputting the sum of the element-wise multiplication of the filter and the image patch, we now take the maximum element of the image patch for that location."
   ]
  },
  {
   "cell_type": "code",
   "execution_count": 27,
   "id": "a820f249",
   "metadata": {},
   "outputs": [
    {
     "name": "stdout",
     "output_type": "stream",
     "text": [
      "tf.Tensor(\n",
      "[[[[4.]\n",
      "   [4.]]\n",
      "\n",
      "  [[8.]\n",
      "   [8.]]]], shape=(1, 2, 2, 1), dtype=float32)\n"
     ]
    }
   ],
   "source": [
    "x = tf.constant( [[\n",
    "[[1],[2],[3],[4]],\n",
    "[[4],[3],[2],[1]],\n",
    "[[5],[6],[7],[8]],\n",
    "[[8],[7],[6],[5]]\n",
    "]],\n",
    "dtype=tf.float32)\n",
    "\n",
    "x_ksize = [1,2,2,1]\n",
    "x_stride = [1,2,2,1]\n",
    "x_padding = 'VALID'\n",
    "x_pool = tf.nn.max_pool(input=x, ksize=x_ksize, strides=x_stride, padding=x_padding)\n",
    "\n",
    "# or for keras\n",
    "# x_pool_keras = tf.keras.layers.MaxPool2D()(x)\n",
    "\n",
    "print(x_pool)"
   ]
  },
  {
   "cell_type": "code",
   "execution_count": null,
   "id": "d4493577",
   "metadata": {},
   "outputs": [],
   "source": []
  }
 ],
 "metadata": {
  "kernelspec": {
   "display_name": "Python 3",
   "language": "python",
   "name": "python3"
  },
  "language_info": {
   "codemirror_mode": {
    "name": "ipython",
    "version": 3
   },
   "file_extension": ".py",
   "mimetype": "text/x-python",
   "name": "python",
   "nbconvert_exporter": "python",
   "pygments_lexer": "ipython3",
   "version": "3.8.8"
  }
 },
 "nbformat": 4,
 "nbformat_minor": 5
}
